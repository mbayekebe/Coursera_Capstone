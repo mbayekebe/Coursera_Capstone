{
  "nbformat": 4,
  "nbformat_minor": 0,
  "metadata": {
    "colab": {
      "name": "CapstoneNotebook.ipynb",
      "version": "0.3.2",
      "provenance": [],
      "include_colab_link": true
    },
    "kernelspec": {
      "name": "python3",
      "display_name": "Python 3"
    }
  },
  "cells": [
    {
      "cell_type": "markdown",
      "metadata": {
        "id": "view-in-github",
        "colab_type": "text"
      },
      "source": [
        "<a href=\"https://colab.research.google.com/github/mbayekebe/Coursera_Capstone/blob/master/CapstoneNotebook.ipynb\" target=\"_parent\"><img src=\"https://colab.research.google.com/assets/colab-badge.svg\" alt=\"Open In Colab\"/></a>"
      ]
    },
    {
      "metadata": {
        "id": "EKYsX0_zAgwF",
        "colab_type": "code",
        "colab": {}
      },
      "cell_type": "code",
      "source": [
        ""
      ],
      "execution_count": 0,
      "outputs": []
    },
    {
      "metadata": {
        "id": "820-yLBxAxED",
        "colab_type": "text"
      },
      "cell_type": "markdown",
      "source": [
        ""
      ]
    },
    {
      "metadata": {
        "id": "zOHr0DWoAxrw",
        "colab_type": "text"
      },
      "cell_type": "markdown",
      "source": [
        ""
      ]
    },
    {
      "metadata": {
        "id": "f-VOMiILA2fe",
        "colab_type": "text"
      },
      "cell_type": "markdown",
      "source": [
        "# **IBM Coursera Data Science Capstone Project**"
      ]
    },
    {
      "metadata": {
        "id": "9GBQQCIyBCpQ",
        "colab_type": "text"
      },
      "cell_type": "markdown",
      "source": [
        "**This  notebook that will be mainly used for the Capstone Project**"
      ]
    },
    {
      "metadata": {
        "id": "Xh7jxdEuBwix",
        "colab_type": "code",
        "colab": {}
      },
      "cell_type": "code",
      "source": [
        "import pandas as pd\n",
        "import Numpy as np\n",
        "print(\"Hello Capstone Project Course!\")"
      ],
      "execution_count": 0,
      "outputs": []
    }
  ]
}