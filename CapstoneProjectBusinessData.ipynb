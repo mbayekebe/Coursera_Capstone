{
  "nbformat": 4,
  "nbformat_minor": 0,
  "metadata": {
    "colab": {
      "name": "CapstoneProjectBusinessData.ipynb",
      "version": "0.3.2",
      "provenance": [],
      "include_colab_link": true
    },
    "kernelspec": {
      "display_name": "Python 3",
      "language": "python",
      "name": "python3"
    }
  },
  "cells": [
    {
      "cell_type": "markdown",
      "metadata": {
        "id": "view-in-github",
        "colab_type": "text"
      },
      "source": [
        "<a href=\"https://colab.research.google.com/github/mbayekebe/Coursera_Capstone/blob/master/CapstoneProjectBusinessData.ipynb\" target=\"_parent\"><img src=\"https://colab.research.google.com/assets/colab-badge.svg\" alt=\"Open In Colab\"/></a>"
      ]
    },
    {
      "metadata": {
        "id": "Gi92E-hM6aCa",
        "colab_type": "text"
      },
      "cell_type": "markdown",
      "source": [
        "# Capstone Project – The Battle of Neighborhoods : Introduction/Business Problem and Data"
      ]
    },
    {
      "metadata": {
        "id": "539WK0FV6aCb",
        "colab_type": "text"
      },
      "cell_type": "markdown",
      "source": [
        "## A. Introduction/Business Problem"
      ]
    },
    {
      "metadata": {
        "id": "N6-0yk2Y6aCd",
        "colab_type": "text"
      },
      "cell_type": "markdown",
      "source": [
        "### In module 3 of this Capstone Course, New York City in the United States and the city of Toronto in Canada were segmented and their neighborhoods were clustered. The two cities feature great diversity and are booming financial centers of their respective countries. \n",
        "\n",
        "### The idea here in this research is to compare the neighborhoods that are within the 16 boroughs (11 boroughs with hundreds of neighborhoods in Toronto, 5 boroughs with hundreds of neighborhoods in New York) of the two cities and find out, based on statistical techniques how similar or dissimilar they are. Are the boroughs and their associated neighborhoods make New York City like Toronto in terms of the venues, and categories of venues they harbor?\n",
        "\n",
        "### This idea will be refined here, through the use of statistical techniques that can pinpoint similarities and differences between New York and Toronto neighborhoods. This research will put emphasis on the use of data mining and machine learning techniques – Data Visualization, Analysis Of Variance (ANOVA), Correlation Analysis, Correspondence/Discriminant Analysis, and Canonical Correlation Analysis to gain insights.\n",
        "\n",
        "### In most part of the world, nowadays and with the advent of the Internet and smartphones, people/entities will to some extent, do their due diligence and research neighborhoods areas when planning to move from City A to City B. These stakeholders comprising of tourists, city migrant workers entities looking for new location to start office, and many others, will benefit from a user friendly information system that highlights to them similarities and differences between the two cities in terms of neighborhood venue profiles. Hence they will be able to make an informed choice beforehand and avoid costly moves.\n"
      ]
    },
    {
      "metadata": {
        "id": "pyHuOACh6aCe",
        "colab_type": "text"
      },
      "cell_type": "markdown",
      "source": [
        "## B. Data"
      ]
    },
    {
      "metadata": {
        "id": "g5ZOasPw6aCf",
        "colab_type": "text"
      },
      "cell_type": "markdown",
      "source": [
        "### In order to solve this problem – of clearly describing the similarities and differences between the two cities in terms of neighborhood venues – we will mainly use Foursquare location data. \n",
        "\n",
        "### For each City and borough/neighborhood, we will need a data set of the their venues and venue categories – borough/neighborhood name, location (latitude, longitude), venue name, venue category – shop/services, nightlife, arts, college/universities, etc.\n",
        "\n",
        "### Hence, this research project would use Foursquare API as its core data gathering source as it has a database of more than 100 million places; the Foursquare API provides the ability to perform location search, venue searches by various venue categories through HTTP requests.  Because of http requests limitations, the number of places per neighborhood will to 100 and the radius parameter to 500.\n",
        "\n",
        "### A number of Folium- Python visualization libraries, including libraries like Pandas, NumPy, Seaborn, Scikit-learn, Matplotlib, and others will be used for visualization and comparative analysis.\n"
      ]
    },
    {
      "metadata": {
        "id": "RYs9cGdE6aCh",
        "colab_type": "code",
        "colab": {}
      },
      "cell_type": "code",
      "source": [
        ""
      ],
      "execution_count": 0,
      "outputs": []
    }
  ]
}