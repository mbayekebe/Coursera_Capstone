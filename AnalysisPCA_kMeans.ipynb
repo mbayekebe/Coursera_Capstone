{
  "nbformat": 4,
  "nbformat_minor": 0,
  "metadata": {
    "colab": {
      "name": "AnalysisPCA_kMeans.ipynb",
      "version": "0.3.2",
      "provenance": [],
      "include_colab_link": true
    },
    "kernelspec": {
      "display_name": "Python 3",
      "language": "python",
      "name": "python3"
    }
  },
  "cells": [
    {
      "cell_type": "markdown",
      "metadata": {
        "id": "view-in-github",
        "colab_type": "text"
      },
      "source": [
        "<a href=\"https://colab.research.google.com/github/mbayekebe/Coursera_Capstone/blob/master/AnalysisPCA_kMeans.ipynb\" target=\"_parent\"><img src=\"https://colab.research.google.com/assets/colab-badge.svg\" alt=\"Open In Colab\"/></a>"
      ]
    },
    {
      "metadata": {
        "id": "IP59Ahg59fGD",
        "colab_type": "text"
      },
      "cell_type": "markdown",
      "source": [
        "# Statistical Analysis looking for similarities and differences using Principal Component Analysis followed by kMeans Clustering"
      ]
    },
    {
      "metadata": {
        "id": "ns3S3m_J9fGE",
        "colab_type": "code",
        "colab": {}
      },
      "cell_type": "code",
      "source": [
        "import numpy as np\n",
        "import pandas as pd\n",
        " \n",
        "import matplotlib\n",
        "import matplotlib.pyplot as plt\n",
        "%matplotlib inline\n",
        " \n",
        " \n",
        "from sklearn.decomposition import PCA\n",
        "from sklearn import datasets"
      ],
      "execution_count": 0,
      "outputs": []
    },
    {
      "metadata": {
        "id": "8Z0BwsDw9fGJ",
        "colab_type": "code",
        "colab": {}
      },
      "cell_type": "code",
      "source": [
        "# Pandas Options (optional)\n",
        "pd_maxrows = 10\n",
        "pd.set_option(\"display.max_rows\",pd_maxrows)\n",
        " \n",
        "pd.set_option(\"display.max_columns\",30)"
      ],
      "execution_count": 0,
      "outputs": []
    },
    {
      "metadata": {
        "id": "V4XBxPyQ9fGN",
        "colab_type": "code",
        "colab": {}
      },
      "cell_type": "code",
      "source": [
        "matX = pd.read_csv('NewYorkToronto7VenueCat408Neighb.csv')\n",
        "\n"
      ],
      "execution_count": 0,
      "outputs": []
    },
    {
      "metadata": {
        "id": "VVjaKc099fGR",
        "colab_type": "code",
        "colab": {},
        "outputId": "0216eb22-69bf-4b63-d519-d8d9bd3ff430"
      },
      "cell_type": "code",
      "source": [
        "df = pd.DataFrame(matX)\n",
        "df.head()"
      ],
      "execution_count": 0,
      "outputs": [
        {
          "output_type": "execute_result",
          "data": {
            "text/html": [
              "<div>\n",
              "<style scoped>\n",
              "    .dataframe tbody tr th:only-of-type {\n",
              "        vertical-align: middle;\n",
              "    }\n",
              "\n",
              "    .dataframe tbody tr th {\n",
              "        vertical-align: top;\n",
              "    }\n",
              "\n",
              "    .dataframe thead th {\n",
              "        text-align: right;\n",
              "    }\n",
              "</style>\n",
              "<table border=\"1\" class=\"dataframe\">\n",
              "  <thead>\n",
              "    <tr style=\"text-align: right;\">\n",
              "      <th></th>\n",
              "      <th>City</th>\n",
              "      <th>Arts</th>\n",
              "      <th>CollegeUniversity</th>\n",
              "      <th>Food</th>\n",
              "      <th>Professional</th>\n",
              "      <th>Nightlife</th>\n",
              "      <th>Outdoor</th>\n",
              "      <th>ShopServices</th>\n",
              "      <th>TravelTransport</th>\n",
              "      <th>Residence</th>\n",
              "    </tr>\n",
              "  </thead>\n",
              "  <tbody>\n",
              "    <tr>\n",
              "      <th>0</th>\n",
              "      <td>toronto</td>\n",
              "      <td>0</td>\n",
              "      <td>1</td>\n",
              "      <td>1</td>\n",
              "      <td>9</td>\n",
              "      <td>0</td>\n",
              "      <td>3</td>\n",
              "      <td>4</td>\n",
              "      <td>4</td>\n",
              "      <td>4</td>\n",
              "    </tr>\n",
              "    <tr>\n",
              "      <th>1</th>\n",
              "      <td>toronto</td>\n",
              "      <td>1</td>\n",
              "      <td>1</td>\n",
              "      <td>5</td>\n",
              "      <td>19</td>\n",
              "      <td>0</td>\n",
              "      <td>5</td>\n",
              "      <td>15</td>\n",
              "      <td>4</td>\n",
              "      <td>7</td>\n",
              "    </tr>\n",
              "    <tr>\n",
              "      <th>2</th>\n",
              "      <td>toronto</td>\n",
              "      <td>50</td>\n",
              "      <td>8</td>\n",
              "      <td>50</td>\n",
              "      <td>49</td>\n",
              "      <td>27</td>\n",
              "      <td>47</td>\n",
              "      <td>50</td>\n",
              "      <td>38</td>\n",
              "      <td>35</td>\n",
              "    </tr>\n",
              "    <tr>\n",
              "      <th>3</th>\n",
              "      <td>toronto</td>\n",
              "      <td>4</td>\n",
              "      <td>3</td>\n",
              "      <td>12</td>\n",
              "      <td>28</td>\n",
              "      <td>2</td>\n",
              "      <td>6</td>\n",
              "      <td>39</td>\n",
              "      <td>1</td>\n",
              "      <td>0</td>\n",
              "    </tr>\n",
              "    <tr>\n",
              "      <th>4</th>\n",
              "      <td>toronto</td>\n",
              "      <td>45</td>\n",
              "      <td>48</td>\n",
              "      <td>50</td>\n",
              "      <td>50</td>\n",
              "      <td>41</td>\n",
              "      <td>45</td>\n",
              "      <td>50</td>\n",
              "      <td>28</td>\n",
              "      <td>49</td>\n",
              "    </tr>\n",
              "  </tbody>\n",
              "</table>\n",
              "</div>"
            ],
            "text/plain": [
              "      City  Arts  CollegeUniversity  Food  Professional  Nightlife  Outdoor  \\\n",
              "0  toronto     0                  1     1             9          0        3   \n",
              "1  toronto     1                  1     5            19          0        5   \n",
              "2  toronto    50                  8    50            49         27       47   \n",
              "3  toronto     4                  3    12            28          2        6   \n",
              "4  toronto    45                 48    50            50         41       45   \n",
              "\n",
              "   ShopServices  TravelTransport  Residence  \n",
              "0             4                4          4  \n",
              "1            15                4          7  \n",
              "2            50               38         35  \n",
              "3            39                1          0  \n",
              "4            50               28         49  "
            ]
          },
          "metadata": {
            "tags": []
          },
          "execution_count": 346
        }
      ]
    },
    {
      "metadata": {
        "id": "Cz8ZgFWj9fGY",
        "colab_type": "code",
        "colab": {}
      },
      "cell_type": "code",
      "source": [
        "labels = df['City'].unique().tolist()"
      ],
      "execution_count": 0,
      "outputs": []
    },
    {
      "metadata": {
        "id": "puoCc2mG9fGf",
        "colab_type": "code",
        "colab": {},
        "outputId": "1fc337ca-6cce-47b1-9b01-3bdd8576adb1"
      },
      "cell_type": "code",
      "source": [
        "plt.figure(figsize=(15,5))\n",
        "plt.subplot(121)\n",
        "for lab in labels:\n",
        "    plt.scatter(df.loc[df['City'] == lab, 'Arts'],  df.loc[df['City'] == lab, 'CollegeUniversity'], label=lab)\n",
        "    plt.legend()\n",
        "    \n",
        "plt.subplot(122)\n",
        "for lab in labels:\n",
        "    plt.scatter(df.loc[df['City'] == lab, 'Food'],  df.loc[df['City'] == lab, 'Professional'], label=lab)\n",
        "    plt.legend()\n",
        "   "
      ],
      "execution_count": 0,
      "outputs": [
        {
          "output_type": "display_data",
          "data": {
            "image/png": "[encoded data removed]",
            "text/plain": [
              "<Figure size 1080x360 with 2 Axes>"
            ]
          },
          "metadata": {
            "tags": [],
            "needs_background": "light"
          }
        }
      ]
    },
    {
      "metadata": {
        "id": "bIMn09xM9fGj",
        "colab_type": "code",
        "colab": {},
        "outputId": "7c000f2d-86e1-4607-8c9c-61d9f98accc1"
      },
      "cell_type": "code",
      "source": [
        "X = df.iloc[:,1:10]\n",
        "X.head()"
      ],
      "execution_count": 0,
      "outputs": [
        {
          "output_type": "execute_result",
          "data": {
            "text/html": [
              "<div>\n",
              "<style scoped>\n",
              "    .dataframe tbody tr th:only-of-type {\n",
              "        vertical-align: middle;\n",
              "    }\n",
              "\n",
              "    .dataframe tbody tr th {\n",
              "        vertical-align: top;\n",
              "    }\n",
              "\n",
              "    .dataframe thead th {\n",
              "        text-align: right;\n",
              "    }\n",
              "</style>\n",
              "<table border=\"1\" class=\"dataframe\">\n",
              "  <thead>\n",
              "    <tr style=\"text-align: right;\">\n",
              "      <th></th>\n",
              "      <th>Arts</th>\n",
              "      <th>CollegeUniversity</th>\n",
              "      <th>Food</th>\n",
              "      <th>Professional</th>\n",
              "      <th>Nightlife</th>\n",
              "      <th>Outdoor</th>\n",
              "      <th>ShopServices</th>\n",
              "      <th>TravelTransport</th>\n",
              "      <th>Residence</th>\n",
              "    </tr>\n",
              "  </thead>\n",
              "  <tbody>\n",
              "    <tr>\n",
              "      <th>0</th>\n",
              "      <td>0</td>\n",
              "      <td>1</td>\n",
              "      <td>1</td>\n",
              "      <td>9</td>\n",
              "      <td>0</td>\n",
              "      <td>3</td>\n",
              "      <td>4</td>\n",
              "      <td>4</td>\n",
              "      <td>4</td>\n",
              "    </tr>\n",
              "    <tr>\n",
              "      <th>1</th>\n",
              "      <td>1</td>\n",
              "      <td>1</td>\n",
              "      <td>5</td>\n",
              "      <td>19</td>\n",
              "      <td>0</td>\n",
              "      <td>5</td>\n",
              "      <td>15</td>\n",
              "      <td>4</td>\n",
              "      <td>7</td>\n",
              "    </tr>\n",
              "    <tr>\n",
              "      <th>2</th>\n",
              "      <td>50</td>\n",
              "      <td>8</td>\n",
              "      <td>50</td>\n",
              "      <td>49</td>\n",
              "      <td>27</td>\n",
              "      <td>47</td>\n",
              "      <td>50</td>\n",
              "      <td>38</td>\n",
              "      <td>35</td>\n",
              "    </tr>\n",
              "    <tr>\n",
              "      <th>3</th>\n",
              "      <td>4</td>\n",
              "      <td>3</td>\n",
              "      <td>12</td>\n",
              "      <td>28</td>\n",
              "      <td>2</td>\n",
              "      <td>6</td>\n",
              "      <td>39</td>\n",
              "      <td>1</td>\n",
              "      <td>0</td>\n",
              "    </tr>\n",
              "    <tr>\n",
              "      <th>4</th>\n",
              "      <td>45</td>\n",
              "      <td>48</td>\n",
              "      <td>50</td>\n",
              "      <td>50</td>\n",
              "      <td>41</td>\n",
              "      <td>45</td>\n",
              "      <td>50</td>\n",
              "      <td>28</td>\n",
              "      <td>49</td>\n",
              "    </tr>\n",
              "  </tbody>\n",
              "</table>\n",
              "</div>"
            ],
            "text/plain": [
              "   Arts  CollegeUniversity  Food  Professional  Nightlife  Outdoor  \\\n",
              "0     0                  1     1             9          0        3   \n",
              "1     1                  1     5            19          0        5   \n",
              "2    50                  8    50            49         27       47   \n",
              "3     4                  3    12            28          2        6   \n",
              "4    45                 48    50            50         41       45   \n",
              "\n",
              "   ShopServices  TravelTransport  Residence  \n",
              "0             4                4          4  \n",
              "1            15                4          7  \n",
              "2            50               38         35  \n",
              "3            39                1          0  \n",
              "4            50               28         49  "
            ]
          },
          "metadata": {
            "tags": []
          },
          "execution_count": 349
        }
      ]
    },
    {
      "metadata": {
        "id": "-tnVXEnU9fGn",
        "colab_type": "code",
        "colab": {}
      },
      "cell_type": "code",
      "source": [
        "pca = PCA(n_components=2)\n",
        "pca.fit(X)\n",
        "X_ = pca.transform(X)"
      ],
      "execution_count": 0,
      "outputs": []
    },
    {
      "metadata": {
        "id": "LKY1CQ1w9fGr",
        "colab_type": "code",
        "colab": {}
      },
      "cell_type": "code",
      "source": [
        "dfPCA = pd.DataFrame({'x1': X_[:,0], 'x2': X_[:,1]})\n",
        "dfPCA['City'] = df['City']\n",
        "dfPCA\n",
        "dfPCA.to_csv('dfPCA.csv')"
      ],
      "execution_count": 0,
      "outputs": []
    },
    {
      "metadata": {
        "id": "NGLzSsBp9fGu",
        "colab_type": "code",
        "colab": {},
        "outputId": "cbaa894f-effc-42b7-fbd0-1c1046e83e63"
      },
      "cell_type": "code",
      "source": [
        "plt.figure(figsize=(7,5))\n",
        "for lab in labels:\n",
        "    plt.scatter(dfPCA.loc[dfPCA['City'] == lab, 'x1'],  dfPCA.loc[dfPCA['City'] == lab, 'x2'], label=lab)\n",
        "    plt.legend()"
      ],
      "execution_count": 0,
      "outputs": [
        {
          "output_type": "display_data",
          "data": {
            "image/png": "[encoded data removed]",
            "text/plain": [
              "<Figure size 504x360 with 1 Axes>"
            ]
          },
          "metadata": {
            "tags": [],
            "needs_background": "light"
          }
        }
      ]
    },
    {
      "metadata": {
        "id": "lpCKMd-w9fGy",
        "colab_type": "code",
        "colab": {}
      },
      "cell_type": "code",
      "source": [
        "import matplotlib.pyplot as plt\n",
        "from sklearn.cluster import KMeans\n",
        "import sklearn.metrics as sm\n",
        " \n",
        "import pandas as pd\n",
        "import numpy as np\n",
        " \n",
        "%matplotlib inline"
      ],
      "execution_count": 0,
      "outputs": []
    },
    {
      "metadata": {
        "id": "ACG4wovX9fG1",
        "colab_type": "code",
        "colab": {},
        "outputId": "3522ce10-a7b4-42fa-916b-187a978f112c"
      },
      "cell_type": "code",
      "source": [
        "import numpy as np\n",
        "\n",
        "dfc = pd.read_csv('dfPCAc.csv', index_col=0)\n",
        "dfc.head()"
      ],
      "execution_count": 0,
      "outputs": [
        {
          "output_type": "execute_result",
          "data": {
            "text/html": [
              "<div>\n",
              "<style scoped>\n",
              "    .dataframe tbody tr th:only-of-type {\n",
              "        vertical-align: middle;\n",
              "    }\n",
              "\n",
              "    .dataframe tbody tr th {\n",
              "        vertical-align: top;\n",
              "    }\n",
              "\n",
              "    .dataframe thead th {\n",
              "        text-align: right;\n",
              "    }\n",
              "</style>\n",
              "<table border=\"1\" class=\"dataframe\">\n",
              "  <thead>\n",
              "    <tr style=\"text-align: right;\">\n",
              "      <th></th>\n",
              "      <th>Component1</th>\n",
              "      <th>Component2</th>\n",
              "      <th>City</th>\n",
              "    </tr>\n",
              "  </thead>\n",
              "  <tbody>\n",
              "    <tr>\n",
              "      <th>0</th>\n",
              "      <td>-56.768363</td>\n",
              "      <td>22.241160</td>\n",
              "      <td>toronto</td>\n",
              "    </tr>\n",
              "    <tr>\n",
              "      <th>1</th>\n",
              "      <td>-46.409590</td>\n",
              "      <td>12.190107</td>\n",
              "      <td>toronto</td>\n",
              "    </tr>\n",
              "    <tr>\n",
              "      <th>2</th>\n",
              "      <td>54.383001</td>\n",
              "      <td>3.760187</td>\n",
              "      <td>toronto</td>\n",
              "    </tr>\n",
              "    <tr>\n",
              "      <th>3</th>\n",
              "      <td>-34.166746</td>\n",
              "      <td>-6.276298</td>\n",
              "      <td>toronto</td>\n",
              "    </tr>\n",
              "    <tr>\n",
              "      <th>4</th>\n",
              "      <td>69.627806</td>\n",
              "      <td>20.069983</td>\n",
              "      <td>toronto</td>\n",
              "    </tr>\n",
              "  </tbody>\n",
              "</table>\n",
              "</div>"
            ],
            "text/plain": [
              "   Component1  Component2     City\n",
              "0  -56.768363   22.241160  toronto\n",
              "1  -46.409590   12.190107  toronto\n",
              "2   54.383001    3.760187  toronto\n",
              "3  -34.166746   -6.276298  toronto\n",
              "4   69.627806   20.069983  toronto"
            ]
          },
          "metadata": {
            "tags": []
          },
          "execution_count": 354
        }
      ]
    },
    {
      "metadata": {
        "id": "w3usCOgn9fG6",
        "colab_type": "code",
        "colab": {},
        "outputId": "0c6b69c7-b96e-40ef-e916-ace209448496"
      },
      "cell_type": "code",
      "source": [
        "X = dfc.iloc[:,0:2]\n",
        "X.head()"
      ],
      "execution_count": 0,
      "outputs": [
        {
          "output_type": "execute_result",
          "data": {
            "text/html": [
              "<div>\n",
              "<style scoped>\n",
              "    .dataframe tbody tr th:only-of-type {\n",
              "        vertical-align: middle;\n",
              "    }\n",
              "\n",
              "    .dataframe tbody tr th {\n",
              "        vertical-align: top;\n",
              "    }\n",
              "\n",
              "    .dataframe thead th {\n",
              "        text-align: right;\n",
              "    }\n",
              "</style>\n",
              "<table border=\"1\" class=\"dataframe\">\n",
              "  <thead>\n",
              "    <tr style=\"text-align: right;\">\n",
              "      <th></th>\n",
              "      <th>Component1</th>\n",
              "      <th>Component2</th>\n",
              "    </tr>\n",
              "  </thead>\n",
              "  <tbody>\n",
              "    <tr>\n",
              "      <th>0</th>\n",
              "      <td>-56.768363</td>\n",
              "      <td>22.241160</td>\n",
              "    </tr>\n",
              "    <tr>\n",
              "      <th>1</th>\n",
              "      <td>-46.409590</td>\n",
              "      <td>12.190107</td>\n",
              "    </tr>\n",
              "    <tr>\n",
              "      <th>2</th>\n",
              "      <td>54.383001</td>\n",
              "      <td>3.760187</td>\n",
              "    </tr>\n",
              "    <tr>\n",
              "      <th>3</th>\n",
              "      <td>-34.166746</td>\n",
              "      <td>-6.276298</td>\n",
              "    </tr>\n",
              "    <tr>\n",
              "      <th>4</th>\n",
              "      <td>69.627806</td>\n",
              "      <td>20.069983</td>\n",
              "    </tr>\n",
              "  </tbody>\n",
              "</table>\n",
              "</div>"
            ],
            "text/plain": [
              "   Component1  Component2\n",
              "0  -56.768363   22.241160\n",
              "1  -46.409590   12.190107\n",
              "2   54.383001    3.760187\n",
              "3  -34.166746   -6.276298\n",
              "4   69.627806   20.069983"
            ]
          },
          "metadata": {
            "tags": []
          },
          "execution_count": 355
        }
      ]
    },
    {
      "metadata": {
        "id": "5zmaX8rr9fG-",
        "colab_type": "code",
        "colab": {},
        "outputId": "11edce64-e4a7-4fe4-eb87-fa289048e180"
      },
      "cell_type": "code",
      "source": [
        "labels = dfc['City'].unique().tolist()\n",
        "labels\n"
      ],
      "execution_count": 0,
      "outputs": [
        {
          "output_type": "execute_result",
          "data": {
            "text/plain": [
              "['toronto', 'newyork']"
            ]
          },
          "metadata": {
            "tags": []
          },
          "execution_count": 356
        }
      ]
    },
    {
      "metadata": {
        "id": "Tdu2P2hw9fHD",
        "colab_type": "code",
        "colab": {},
        "outputId": "333106b5-39e6-4506-8a9b-57f516a09367"
      },
      "cell_type": "code",
      "source": [
        "# K Means Cluster\n",
        "model = KMeans(n_clusters=3)\n",
        "model.fit(X)"
      ],
      "execution_count": 0,
      "outputs": [
        {
          "output_type": "execute_result",
          "data": {
            "text/plain": [
              "KMeans(algorithm='auto', copy_x=True, init='k-means++', max_iter=300,\n",
              "    n_clusters=3, n_init=10, n_jobs=None, precompute_distances='auto',\n",
              "    random_state=None, tol=0.0001, verbose=0)"
            ]
          },
          "metadata": {
            "tags": []
          },
          "execution_count": 357
        }
      ]
    },
    {
      "metadata": {
        "id": "3bkxdgi-9fHK",
        "colab_type": "code",
        "colab": {},
        "outputId": "23e5c93b-d378-4ee9-b459-04539440e930"
      },
      "cell_type": "code",
      "source": [
        "# This is what KMeans thought\n",
        "model.labels_"
      ],
      "execution_count": 0,
      "outputs": [
        {
          "output_type": "execute_result",
          "data": {
            "text/plain": [
              "array([2, 2, 0, 2, 0, 2, 2, 2, 2, 0, 2, 2, 2, 1, 2, 0, 2, 2, 2, 1, 0, 2,\n",
              "       2, 1, 0, 1, 2, 2, 2, 1, 0, 1, 2, 1, 2, 2, 0, 0, 2, 2, 2, 1, 0, 0,\n",
              "       2, 2, 2, 1, 0, 2, 2, 2, 2, 2, 1, 1, 2, 2, 2, 1, 2, 2, 2, 2, 2, 2,\n",
              "       2, 1, 2, 1, 2, 2, 2, 1, 1, 1, 1, 2, 2, 1, 0, 1, 2, 2, 0, 2, 1, 2,\n",
              "       2, 1, 1, 2, 0, 2, 2, 2, 1, 0, 2, 0, 1, 2, 2, 1, 1, 2, 1, 1, 1, 1,\n",
              "       1, 1, 1, 1, 2, 1, 1, 1, 0, 1, 1, 1, 1, 1, 1, 1, 2, 1, 1, 2, 2, 1,\n",
              "       1, 1, 1, 1, 0, 1, 1, 1, 1, 2, 2, 1, 1, 1, 1, 2, 1, 1, 1, 0, 1, 1,\n",
              "       1, 1, 1, 1, 1, 1, 1, 0, 1, 0, 0, 1, 0, 0, 0, 1, 0, 0, 0, 1, 1, 2,\n",
              "       1, 1, 2, 2, 1, 1, 1, 1, 1, 1, 0, 2, 0, 0, 1, 1, 1, 2, 1, 1, 1, 0,\n",
              "       0, 0, 1, 1, 0, 0, 0, 0, 0, 0, 0, 0, 0, 0, 1, 0, 0, 0, 0, 0, 0, 0,\n",
              "       0, 0, 0, 0, 0, 0, 0, 0, 0, 0, 0, 0, 1, 0, 0, 1, 1, 1, 1, 1, 0, 0,\n",
              "       0, 1, 1, 1, 1, 1, 1, 1, 2, 1, 2, 1, 1, 1, 1, 1, 1, 1, 2, 1, 1, 1,\n",
              "       1, 1, 1, 1, 2, 2, 2, 2, 1, 2, 2, 1, 2, 1, 2, 2, 1, 2, 0, 2, 2, 1,\n",
              "       1, 1, 0, 2, 2, 1, 2, 1, 2, 2, 2, 1, 1, 1, 2, 1, 1, 1, 2, 2, 2, 1,\n",
              "       2, 2, 1, 1, 2, 1, 2, 1, 1, 2, 2, 2, 1, 2, 0, 1, 1, 1, 2, 2, 2, 2,\n",
              "       1, 2, 1, 1, 2, 1, 2, 1, 2, 2, 2, 2, 1, 2, 2, 2, 0, 2, 1, 0, 0, 0,\n",
              "       0, 2, 1, 2, 2, 2, 2, 2, 1, 1, 1, 2, 1, 1, 2, 1, 1, 1, 1, 1, 1, 0,\n",
              "       0, 0, 0, 0, 0, 0, 1, 0, 1, 1, 1, 0, 2, 2, 2, 2, 2, 1, 1, 2, 2, 2,\n",
              "       2, 1, 1, 1, 1, 1, 1, 0, 2, 2, 1, 2], dtype=int32)"
            ]
          },
          "metadata": {
            "tags": []
          },
          "execution_count": 358
        }
      ]
    },
    {
      "metadata": {
        "id": "Mr99fSs99fHQ",
        "colab_type": "code",
        "colab": {},
        "outputId": "d049a83e-58aa-4829-e743-913ca4ee86f2"
      },
      "cell_type": "code",
      "source": [
        "import pylab as pl\n",
        "pl.figure('K-means with 3 clusters')\n",
        "pl.scatter(X.iloc[:, 0], X.iloc[:, 1], c=model.labels_)\n",
        "pl.show()"
      ],
      "execution_count": 0,
      "outputs": [
        {
          "output_type": "display_data",
          "data": {
            "image/png": "[encoded data removed]",
            "text/plain": [
              "<Figure size 432x288 with 1 Axes>"
            ]
          },
          "metadata": {
            "tags": [],
            "needs_background": "light"
          }
        }
      ]
    },
    {
      "metadata": {
        "id": "W6HP2b7o9fHX",
        "colab_type": "code",
        "colab": {}
      },
      "cell_type": "code",
      "source": [
        "cluster_map = pd.DataFrame()\n",
        "cluster_map['X_index'] = X.index.values\n",
        "cluster_map['cluster'] = model.labels_"
      ],
      "execution_count": 0,
      "outputs": []
    },
    {
      "metadata": {
        "id": "yDgm6dR_9fHb",
        "colab_type": "code",
        "colab": {},
        "outputId": "dd10fb84-8fa3-45fd-9c2c-11f47f659f8c"
      },
      "cell_type": "code",
      "source": [
        "cluster_map[cluster_map.cluster == 0]"
      ],
      "execution_count": 0,
      "outputs": [
        {
          "output_type": "execute_result",
          "data": {
            "text/html": [
              "<div>\n",
              "<style scoped>\n",
              "    .dataframe tbody tr th:only-of-type {\n",
              "        vertical-align: middle;\n",
              "    }\n",
              "\n",
              "    .dataframe tbody tr th {\n",
              "        vertical-align: top;\n",
              "    }\n",
              "\n",
              "    .dataframe thead th {\n",
              "        text-align: right;\n",
              "    }\n",
              "</style>\n",
              "<table border=\"1\" class=\"dataframe\">\n",
              "  <thead>\n",
              "    <tr style=\"text-align: right;\">\n",
              "      <th></th>\n",
              "      <th>X_index</th>\n",
              "      <th>cluster</th>\n",
              "    </tr>\n",
              "  </thead>\n",
              "  <tbody>\n",
              "    <tr>\n",
              "      <th>2</th>\n",
              "      <td>2</td>\n",
              "      <td>0</td>\n",
              "    </tr>\n",
              "    <tr>\n",
              "      <th>4</th>\n",
              "      <td>4</td>\n",
              "      <td>0</td>\n",
              "    </tr>\n",
              "    <tr>\n",
              "      <th>9</th>\n",
              "      <td>9</td>\n",
              "      <td>0</td>\n",
              "    </tr>\n",
              "    <tr>\n",
              "      <th>15</th>\n",
              "      <td>15</td>\n",
              "      <td>0</td>\n",
              "    </tr>\n",
              "    <tr>\n",
              "      <th>20</th>\n",
              "      <td>20</td>\n",
              "      <td>0</td>\n",
              "    </tr>\n",
              "    <tr>\n",
              "      <th>...</th>\n",
              "      <td>...</td>\n",
              "      <td>...</td>\n",
              "    </tr>\n",
              "    <tr>\n",
              "      <th>378</th>\n",
              "      <td>378</td>\n",
              "      <td>0</td>\n",
              "    </tr>\n",
              "    <tr>\n",
              "      <th>379</th>\n",
              "      <td>379</td>\n",
              "      <td>0</td>\n",
              "    </tr>\n",
              "    <tr>\n",
              "      <th>381</th>\n",
              "      <td>381</td>\n",
              "      <td>0</td>\n",
              "    </tr>\n",
              "    <tr>\n",
              "      <th>385</th>\n",
              "      <td>385</td>\n",
              "      <td>0</td>\n",
              "    </tr>\n",
              "    <tr>\n",
              "      <th>403</th>\n",
              "      <td>403</td>\n",
              "      <td>0</td>\n",
              "    </tr>\n",
              "  </tbody>\n",
              "</table>\n",
              "<p>87 rows × 2 columns</p>\n",
              "</div>"
            ],
            "text/plain": [
              "     X_index  cluster\n",
              "2          2        0\n",
              "4          4        0\n",
              "9          9        0\n",
              "15        15        0\n",
              "20        20        0\n",
              "..       ...      ...\n",
              "378      378        0\n",
              "379      379        0\n",
              "381      381        0\n",
              "385      385        0\n",
              "403      403        0\n",
              "\n",
              "[87 rows x 2 columns]"
            ]
          },
          "metadata": {
            "tags": []
          },
          "execution_count": 361
        }
      ]
    },
    {
      "metadata": {
        "id": "Sa520uzB9fHg",
        "colab_type": "code",
        "colab": {}
      },
      "cell_type": "code",
      "source": [
        "df_merged = df\n",
        "df_merged['Cluster Labels'] = model.labels_\n",
        "df_merged.head(10)\n",
        "df_merged.to_csv(\"df_merged.csv\")"
      ],
      "execution_count": 0,
      "outputs": []
    },
    {
      "metadata": {
        "id": "GCbQoWJH9fHj",
        "colab_type": "code",
        "colab": {}
      },
      "cell_type": "code",
      "source": [
        "Cluster0 = df_merged[df_merged['Cluster Labels'] == 0]\n",
        "Cluster1 = df_merged[df_merged['Cluster Labels'] == 1]\n",
        "Cluster2 = df_merged[df_merged['Cluster Labels'] == 2]"
      ],
      "execution_count": 0,
      "outputs": []
    },
    {
      "metadata": {
        "id": "5yaYIID_9fHn",
        "colab_type": "code",
        "colab": {}
      },
      "cell_type": "code",
      "source": [
        "Cluster0.to_csv('Cluster0.csv')\n",
        "Cluster1.to_csv('Cluster1.csv')\n",
        "Cluster2.to_csv('Cluster2.csv')"
      ],
      "execution_count": 0,
      "outputs": []
    },
    {
      "metadata": {
        "id": "bRxF1yeT9fHt",
        "colab_type": "code",
        "colab": {}
      },
      "cell_type": "code",
      "source": [
        "dfcr = pd.read_csv('dfc_merged.csv')"
      ],
      "execution_count": 0,
      "outputs": []
    },
    {
      "metadata": {
        "id": "Lhec5VCe9fHw",
        "colab_type": "code",
        "colab": {},
        "outputId": "c23a50ef-ff68-47b4-cc64-acb05d91591f"
      },
      "cell_type": "code",
      "source": [
        "dfcr.head()"
      ],
      "execution_count": 0,
      "outputs": [
        {
          "output_type": "execute_result",
          "data": {
            "text/html": [
              "<div>\n",
              "<style scoped>\n",
              "    .dataframe tbody tr th:only-of-type {\n",
              "        vertical-align: middle;\n",
              "    }\n",
              "\n",
              "    .dataframe tbody tr th {\n",
              "        vertical-align: top;\n",
              "    }\n",
              "\n",
              "    .dataframe thead th {\n",
              "        text-align: right;\n",
              "    }\n",
              "</style>\n",
              "<table border=\"1\" class=\"dataframe\">\n",
              "  <thead>\n",
              "    <tr style=\"text-align: right;\">\n",
              "      <th></th>\n",
              "      <th>Borough</th>\n",
              "      <th>Neighborhood</th>\n",
              "      <th>City</th>\n",
              "      <th>Arts</th>\n",
              "      <th>CollegeUniversity</th>\n",
              "      <th>Food</th>\n",
              "      <th>Professional</th>\n",
              "      <th>Nightlife</th>\n",
              "      <th>Outdoor</th>\n",
              "      <th>ShopServices</th>\n",
              "      <th>TravelTransport</th>\n",
              "      <th>Residence</th>\n",
              "      <th>Cluster Labels</th>\n",
              "    </tr>\n",
              "  </thead>\n",
              "  <tbody>\n",
              "    <tr>\n",
              "      <th>0</th>\n",
              "      <td>North York</td>\n",
              "      <td>Parkwoods</td>\n",
              "      <td>toronto</td>\n",
              "      <td>0</td>\n",
              "      <td>1</td>\n",
              "      <td>1</td>\n",
              "      <td>9</td>\n",
              "      <td>0</td>\n",
              "      <td>3</td>\n",
              "      <td>4</td>\n",
              "      <td>4</td>\n",
              "      <td>4</td>\n",
              "      <td>2</td>\n",
              "    </tr>\n",
              "    <tr>\n",
              "      <th>1</th>\n",
              "      <td>North York</td>\n",
              "      <td>Victoria Village</td>\n",
              "      <td>toronto</td>\n",
              "      <td>1</td>\n",
              "      <td>1</td>\n",
              "      <td>5</td>\n",
              "      <td>19</td>\n",
              "      <td>0</td>\n",
              "      <td>5</td>\n",
              "      <td>15</td>\n",
              "      <td>4</td>\n",
              "      <td>7</td>\n",
              "      <td>2</td>\n",
              "    </tr>\n",
              "    <tr>\n",
              "      <th>2</th>\n",
              "      <td>Downtown Toronto</td>\n",
              "      <td>Harbourfront,Regent Park</td>\n",
              "      <td>toronto</td>\n",
              "      <td>50</td>\n",
              "      <td>8</td>\n",
              "      <td>50</td>\n",
              "      <td>49</td>\n",
              "      <td>27</td>\n",
              "      <td>47</td>\n",
              "      <td>50</td>\n",
              "      <td>38</td>\n",
              "      <td>35</td>\n",
              "      <td>0</td>\n",
              "    </tr>\n",
              "    <tr>\n",
              "      <th>3</th>\n",
              "      <td>North York</td>\n",
              "      <td>Lawrence Heights,Lawrence Manor</td>\n",
              "      <td>toronto</td>\n",
              "      <td>4</td>\n",
              "      <td>3</td>\n",
              "      <td>12</td>\n",
              "      <td>28</td>\n",
              "      <td>2</td>\n",
              "      <td>6</td>\n",
              "      <td>39</td>\n",
              "      <td>1</td>\n",
              "      <td>0</td>\n",
              "      <td>2</td>\n",
              "    </tr>\n",
              "    <tr>\n",
              "      <th>4</th>\n",
              "      <td>Queen's Park</td>\n",
              "      <td>Queen's Park</td>\n",
              "      <td>toronto</td>\n",
              "      <td>45</td>\n",
              "      <td>48</td>\n",
              "      <td>50</td>\n",
              "      <td>50</td>\n",
              "      <td>41</td>\n",
              "      <td>45</td>\n",
              "      <td>50</td>\n",
              "      <td>28</td>\n",
              "      <td>49</td>\n",
              "      <td>0</td>\n",
              "    </tr>\n",
              "  </tbody>\n",
              "</table>\n",
              "</div>"
            ],
            "text/plain": [
              "            Borough                     Neighborhood     City  Arts  \\\n",
              "0        North York                        Parkwoods  toronto     0   \n",
              "1        North York                 Victoria Village  toronto     1   \n",
              "2  Downtown Toronto         Harbourfront,Regent Park  toronto    50   \n",
              "3        North York  Lawrence Heights,Lawrence Manor  toronto     4   \n",
              "4      Queen's Park                     Queen's Park  toronto    45   \n",
              "\n",
              "   CollegeUniversity  Food  Professional  Nightlife  Outdoor  ShopServices  \\\n",
              "0                  1     1             9          0        3             4   \n",
              "1                  1     5            19          0        5            15   \n",
              "2                  8    50            49         27       47            50   \n",
              "3                  3    12            28          2        6            39   \n",
              "4                 48    50            50         41       45            50   \n",
              "\n",
              "   TravelTransport  Residence  Cluster Labels  \n",
              "0                4          4               2  \n",
              "1                4          7               2  \n",
              "2               38         35               0  \n",
              "3                1          0               2  \n",
              "4               28         49               0  "
            ]
          },
          "metadata": {
            "tags": []
          },
          "execution_count": 383
        }
      ]
    },
    {
      "metadata": {
        "id": "Dt48pQIk9fH1",
        "colab_type": "code",
        "colab": {}
      },
      "cell_type": "code",
      "source": [
        "dfcr.drop(dfcr.columns[[0,1,2]], axis=1, inplace=True)"
      ],
      "execution_count": 0,
      "outputs": []
    },
    {
      "metadata": {
        "id": "rh0Lzc979fH4",
        "colab_type": "code",
        "colab": {},
        "outputId": "357c8b19-e8d0-4d45-9f2e-637301e6ff61"
      },
      "cell_type": "code",
      "source": [
        "dfcr.head()"
      ],
      "execution_count": 0,
      "outputs": [
        {
          "output_type": "execute_result",
          "data": {
            "text/html": [
              "<div>\n",
              "<style scoped>\n",
              "    .dataframe tbody tr th:only-of-type {\n",
              "        vertical-align: middle;\n",
              "    }\n",
              "\n",
              "    .dataframe tbody tr th {\n",
              "        vertical-align: top;\n",
              "    }\n",
              "\n",
              "    .dataframe thead th {\n",
              "        text-align: right;\n",
              "    }\n",
              "</style>\n",
              "<table border=\"1\" class=\"dataframe\">\n",
              "  <thead>\n",
              "    <tr style=\"text-align: right;\">\n",
              "      <th></th>\n",
              "      <th>Arts</th>\n",
              "      <th>CollegeUniversity</th>\n",
              "      <th>Food</th>\n",
              "      <th>Professional</th>\n",
              "      <th>Nightlife</th>\n",
              "      <th>Outdoor</th>\n",
              "      <th>ShopServices</th>\n",
              "      <th>TravelTransport</th>\n",
              "      <th>Residence</th>\n",
              "      <th>Cluster Labels</th>\n",
              "    </tr>\n",
              "  </thead>\n",
              "  <tbody>\n",
              "    <tr>\n",
              "      <th>0</th>\n",
              "      <td>0</td>\n",
              "      <td>1</td>\n",
              "      <td>1</td>\n",
              "      <td>9</td>\n",
              "      <td>0</td>\n",
              "      <td>3</td>\n",
              "      <td>4</td>\n",
              "      <td>4</td>\n",
              "      <td>4</td>\n",
              "      <td>2</td>\n",
              "    </tr>\n",
              "    <tr>\n",
              "      <th>1</th>\n",
              "      <td>1</td>\n",
              "      <td>1</td>\n",
              "      <td>5</td>\n",
              "      <td>19</td>\n",
              "      <td>0</td>\n",
              "      <td>5</td>\n",
              "      <td>15</td>\n",
              "      <td>4</td>\n",
              "      <td>7</td>\n",
              "      <td>2</td>\n",
              "    </tr>\n",
              "    <tr>\n",
              "      <th>2</th>\n",
              "      <td>50</td>\n",
              "      <td>8</td>\n",
              "      <td>50</td>\n",
              "      <td>49</td>\n",
              "      <td>27</td>\n",
              "      <td>47</td>\n",
              "      <td>50</td>\n",
              "      <td>38</td>\n",
              "      <td>35</td>\n",
              "      <td>0</td>\n",
              "    </tr>\n",
              "    <tr>\n",
              "      <th>3</th>\n",
              "      <td>4</td>\n",
              "      <td>3</td>\n",
              "      <td>12</td>\n",
              "      <td>28</td>\n",
              "      <td>2</td>\n",
              "      <td>6</td>\n",
              "      <td>39</td>\n",
              "      <td>1</td>\n",
              "      <td>0</td>\n",
              "      <td>2</td>\n",
              "    </tr>\n",
              "    <tr>\n",
              "      <th>4</th>\n",
              "      <td>45</td>\n",
              "      <td>48</td>\n",
              "      <td>50</td>\n",
              "      <td>50</td>\n",
              "      <td>41</td>\n",
              "      <td>45</td>\n",
              "      <td>50</td>\n",
              "      <td>28</td>\n",
              "      <td>49</td>\n",
              "      <td>0</td>\n",
              "    </tr>\n",
              "  </tbody>\n",
              "</table>\n",
              "</div>"
            ],
            "text/plain": [
              "   Arts  CollegeUniversity  Food  Professional  Nightlife  Outdoor  \\\n",
              "0     0                  1     1             9          0        3   \n",
              "1     1                  1     5            19          0        5   \n",
              "2    50                  8    50            49         27       47   \n",
              "3     4                  3    12            28          2        6   \n",
              "4    45                 48    50            50         41       45   \n",
              "\n",
              "   ShopServices  TravelTransport  Residence  Cluster Labels  \n",
              "0             4                4          4               2  \n",
              "1            15                4          7               2  \n",
              "2            50               38         35               0  \n",
              "3            39                1          0               2  \n",
              "4            50               28         49               0  "
            ]
          },
          "metadata": {
            "tags": []
          },
          "execution_count": 385
        }
      ]
    },
    {
      "metadata": {
        "id": "-G_OhwlB9fH9",
        "colab_type": "code",
        "colab": {}
      },
      "cell_type": "code",
      "source": [
        ""
      ],
      "execution_count": 0,
      "outputs": []
    }
  ]
}