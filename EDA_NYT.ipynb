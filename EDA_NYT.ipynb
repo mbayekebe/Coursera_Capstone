{
  "nbformat": 4,
  "nbformat_minor": 0,
  "metadata": {
    "colab": {
      "name": "EDA_NYT.ipynb",
      "version": "0.3.2",
      "provenance": [],
      "include_colab_link": true
    },
    "kernelspec": {
      "display_name": "Python 3",
      "language": "python",
      "name": "python3"
    }
  },
  "cells": [
    {
      "cell_type": "markdown",
      "metadata": {
        "id": "view-in-github",
        "colab_type": "text"
      },
      "source": [
        "<a href=\"https://colab.research.google.com/github/mbayekebe/Coursera_Capstone/blob/master/EDA_NYT.ipynb\" target=\"_parent\"><img src=\"https://colab.research.google.com/assets/colab-badge.svg\" alt=\"Open In Colab\"/></a>"
      ]
    },
    {
      "metadata": {
        "id": "J5f_7mzy9OTE",
        "colab_type": "text"
      },
      "cell_type": "markdown",
      "source": [
        "# Exploratory Data Analysis Toronto -- New York Neighborhoods"
      ]
    },
    {
      "metadata": {
        "id": "U26dwqjV9OTG",
        "colab_type": "text"
      },
      "cell_type": "markdown",
      "source": [
        "# imports\n",
        "%matplotlib inline\n",
        "import numpy as np\n",
        "import pandas as pd\n",
        "import statsmodels.api as sm\n",
        "from statsmodels.formula.api import ols\n",
        "\n",
        "np.set_printoptions(formatter={'float': '{: 0.4f}'.format})\n",
        "pd.set_option('display.precision', 5)\n",
        "pd.set_option('display.max_columns', 25)\n",
        "\n",
        "#installing mca package\n",
        "# mca is a Multiple Correspondence Analysis (MCA) package for python, intended to be used with pandas.\n",
        "# MCA is a feature extraction method; essentially PCA for categorical variables.\n",
        "# You can use it, for example, to address multicollinearity or the curse of dimensionality with big categorical variables.\n",
        "\n",
        "# !pip install --user mca"
      ]
    },
    {
      "metadata": {
        "id": "qX4oDv_m9OTH",
        "colab_type": "code",
        "colab": {}
      },
      "cell_type": "code",
      "source": [
        "df = pd.read_csv(\"torontonewyorkboroughanova1.csv\")"
      ],
      "execution_count": 0,
      "outputs": []
    },
    {
      "metadata": {
        "id": "eae5aD2A9OTL",
        "colab_type": "code",
        "colab": {},
        "outputId": "a3ff94d1-9875-4528-96f7-3db9e19754bc"
      },
      "cell_type": "code",
      "source": [
        "df.head()"
      ],
      "execution_count": 0,
      "outputs": [
        {
          "output_type": "execute_result",
          "data": {
            "text/html": [
              "<div>\n",
              "<style scoped>\n",
              "    .dataframe tbody tr th:only-of-type {\n",
              "        vertical-align: middle;\n",
              "    }\n",
              "\n",
              "    .dataframe tbody tr th {\n",
              "        vertical-align: top;\n",
              "    }\n",
              "\n",
              "    .dataframe thead th {\n",
              "        text-align: right;\n",
              "    }\n",
              "</style>\n",
              "<table border=\"1\" class=\"dataframe\">\n",
              "  <thead>\n",
              "    <tr style=\"text-align: right;\">\n",
              "      <th></th>\n",
              "      <th>Borough</th>\n",
              "      <th>City</th>\n",
              "      <th>Arts</th>\n",
              "      <th>CollegeUniversity</th>\n",
              "      <th>Food</th>\n",
              "      <th>Professional</th>\n",
              "      <th>Nightlife</th>\n",
              "      <th>Outdoor</th>\n",
              "      <th>ShopServices</th>\n",
              "      <th>TravelTransport</th>\n",
              "      <th>Residence</th>\n",
              "    </tr>\n",
              "  </thead>\n",
              "  <tbody>\n",
              "    <tr>\n",
              "      <th>0</th>\n",
              "      <td>Central Toronto</td>\n",
              "      <td>toronto</td>\n",
              "      <td>66</td>\n",
              "      <td>59</td>\n",
              "      <td>200</td>\n",
              "      <td>227</td>\n",
              "      <td>60</td>\n",
              "      <td>145</td>\n",
              "      <td>210</td>\n",
              "      <td>57</td>\n",
              "      <td>145</td>\n",
              "    </tr>\n",
              "    <tr>\n",
              "      <th>1</th>\n",
              "      <td>Downtown Toronto</td>\n",
              "      <td>toronto</td>\n",
              "      <td>694</td>\n",
              "      <td>475</td>\n",
              "      <td>780</td>\n",
              "      <td>777</td>\n",
              "      <td>670</td>\n",
              "      <td>737</td>\n",
              "      <td>776</td>\n",
              "      <td>665</td>\n",
              "      <td>606</td>\n",
              "    </tr>\n",
              "    <tr>\n",
              "      <th>2</th>\n",
              "      <td>East Toronto</td>\n",
              "      <td>toronto</td>\n",
              "      <td>79</td>\n",
              "      <td>10</td>\n",
              "      <td>212</td>\n",
              "      <td>181</td>\n",
              "      <td>75</td>\n",
              "      <td>155</td>\n",
              "      <td>225</td>\n",
              "      <td>71</td>\n",
              "      <td>25</td>\n",
              "    </tr>\n",
              "    <tr>\n",
              "      <th>3</th>\n",
              "      <td>East York</td>\n",
              "      <td>toronto</td>\n",
              "      <td>13</td>\n",
              "      <td>7</td>\n",
              "      <td>123</td>\n",
              "      <td>132</td>\n",
              "      <td>20</td>\n",
              "      <td>48</td>\n",
              "      <td>141</td>\n",
              "      <td>36</td>\n",
              "      <td>16</td>\n",
              "    </tr>\n",
              "    <tr>\n",
              "      <th>4</th>\n",
              "      <td>Etobicoke</td>\n",
              "      <td>toronto</td>\n",
              "      <td>42</td>\n",
              "      <td>6</td>\n",
              "      <td>120</td>\n",
              "      <td>141</td>\n",
              "      <td>18</td>\n",
              "      <td>66</td>\n",
              "      <td>163</td>\n",
              "      <td>23</td>\n",
              "      <td>16</td>\n",
              "    </tr>\n",
              "  </tbody>\n",
              "</table>\n",
              "</div>"
            ],
            "text/plain": [
              "            Borough     City  Arts  CollegeUniversity  Food  Professional  \\\n",
              "0   Central Toronto  toronto    66                 59   200           227   \n",
              "1  Downtown Toronto  toronto   694                475   780           777   \n",
              "2      East Toronto  toronto    79                 10   212           181   \n",
              "3         East York  toronto    13                  7   123           132   \n",
              "4         Etobicoke  toronto    42                  6   120           141   \n",
              "\n",
              "   Nightlife  Outdoor  ShopServices  TravelTransport  Residence  \n",
              "0         60      145           210               57        145  \n",
              "1        670      737           776              665        606  \n",
              "2         75      155           225               71         25  \n",
              "3         20       48           141               36         16  \n",
              "4         18       66           163               23         16  "
            ]
          },
          "metadata": {
            "tags": []
          },
          "execution_count": 3
        }
      ]
    },
    {
      "metadata": {
        "id": "Ch_Ze1qM9OTS",
        "colab_type": "code",
        "colab": {}
      },
      "cell_type": "code",
      "source": [
        "# boxplot for Arts column\n",
        "df.boxplot('Arts', by='City')\n"
      ],
      "execution_count": 0,
      "outputs": []
    },
    {
      "metadata": {
        "id": "fubKEdVG9OTW",
        "colab_type": "code",
        "colab": {},
        "outputId": "a7e64ddb-a558-4ccb-d4aa-12be337453cf"
      },
      "cell_type": "code",
      "source": [
        "# boxplot for CollegeUniversity column\n",
        "df.boxplot('CollegeUniversity', by='City')\n"
      ],
      "execution_count": 0,
      "outputs": [
        {
          "output_type": "execute_result",
          "data": {
            "text/plain": [
              "<matplotlib.axes._subplots.AxesSubplot at 0x7f1883126160>"
            ]
          },
          "metadata": {
            "tags": []
          },
          "execution_count": 6
        },
        {
          "output_type": "display_data",
          "data": {
            "image/png": "[encoded data removed]",
            "text/plain": [
              "<Figure size 432x288 with 1 Axes>"
            ]
          },
          "metadata": {
            "tags": [],
            "needs_background": "light"
          }
        }
      ]
    },
    {
      "metadata": {
        "id": "8lAcZjOR9OTb",
        "colab_type": "code",
        "colab": {},
        "outputId": "363b7b91-4e86-4e11-972d-3cbdb81d5101"
      },
      "cell_type": "code",
      "source": [
        "# boxplot for Food column\n",
        "df.boxplot('Food', by='City')"
      ],
      "execution_count": 0,
      "outputs": [
        {
          "output_type": "execute_result",
          "data": {
            "text/plain": [
              "<matplotlib.axes._subplots.AxesSubplot at 0x7f18830ad278>"
            ]
          },
          "metadata": {
            "tags": []
          },
          "execution_count": 7
        },
        {
          "output_type": "display_data",
          "data": {
            "image/png": "[encoded data removed]",
            "text/plain": [
              "<Figure size 432x288 with 1 Axes>"
            ]
          },
          "metadata": {
            "tags": [],
            "needs_background": "light"
          }
        }
      ]
    },
    {
      "metadata": {
        "id": "2uHae-HI9OTg",
        "colab_type": "code",
        "colab": {},
        "outputId": "76fa8e7c-c32e-42cf-f107-d4e2b3ba9107"
      },
      "cell_type": "code",
      "source": [
        "# boxplot for Professional & other column\n",
        "df.boxplot('Professional', by='City')"
      ],
      "execution_count": 0,
      "outputs": [
        {
          "output_type": "execute_result",
          "data": {
            "text/plain": [
              "<matplotlib.axes._subplots.AxesSubplot at 0x7f1883015048>"
            ]
          },
          "metadata": {
            "tags": []
          },
          "execution_count": 8
        },
        {
          "output_type": "display_data",
          "data": {
            "image/png": "[encoded data removed]",
            "text/plain": [
              "<Figure size 432x288 with 1 Axes>"
            ]
          },
          "metadata": {
            "tags": [],
            "needs_background": "light"
          }
        }
      ]
    },
    {
      "metadata": {
        "id": "mwDWSovP9OTm",
        "colab_type": "code",
        "colab": {},
        "outputId": "090b6b59-4497-421a-806e-1c8139dc7d28"
      },
      "cell_type": "code",
      "source": [
        "modl = ols('Arts ~ City', data=df).fit()\n",
        "anova_table = sm.stats.anova_lm(modl,typ=2)   \n",
        "print(anova_table)           "
      ],
      "execution_count": 0,
      "outputs": [
        {
          "output_type": "stream",
          "text": [
            "               sum_sq    df         F  PR(>F)\n",
            "City      2.05024e+06   1.0  14.54497  0.0019\n",
            "Residual  1.97342e+06  14.0       NaN     NaN\n"
          ],
          "name": "stdout"
        }
      ]
    },
    {
      "metadata": {
        "id": "0-j5f6799OTr",
        "colab_type": "code",
        "colab": {}
      },
      "cell_type": "code",
      "source": [
        "df2 = pd.read_csv(\"torontonewyorkvenuesanova2.csv\")"
      ],
      "execution_count": 0,
      "outputs": []
    },
    {
      "metadata": {
        "id": "1QJG1DxU9OTv",
        "colab_type": "code",
        "colab": {},
        "outputId": "940fd1ca-8224-47c2-e069-2f41476003ee"
      },
      "cell_type": "code",
      "source": [
        "df2.head()"
      ],
      "execution_count": 0,
      "outputs": [
        {
          "output_type": "execute_result",
          "data": {
            "text/html": [
              "<div>\n",
              "<style scoped>\n",
              "    .dataframe tbody tr th:only-of-type {\n",
              "        vertical-align: middle;\n",
              "    }\n",
              "\n",
              "    .dataframe tbody tr th {\n",
              "        vertical-align: top;\n",
              "    }\n",
              "\n",
              "    .dataframe thead th {\n",
              "        text-align: right;\n",
              "    }\n",
              "</style>\n",
              "<table border=\"1\" class=\"dataframe\">\n",
              "  <thead>\n",
              "    <tr style=\"text-align: right;\">\n",
              "      <th></th>\n",
              "      <th>City</th>\n",
              "      <th>Arts</th>\n",
              "      <th>CollegeUniversity</th>\n",
              "      <th>Food</th>\n",
              "      <th>Professional</th>\n",
              "      <th>Nightlife</th>\n",
              "      <th>Outdoor</th>\n",
              "      <th>ShopServices</th>\n",
              "      <th>TravelTransport</th>\n",
              "      <th>Residence</th>\n",
              "    </tr>\n",
              "  </thead>\n",
              "  <tbody>\n",
              "    <tr>\n",
              "      <th>0</th>\n",
              "      <td>toronto</td>\n",
              "      <td>0</td>\n",
              "      <td>1</td>\n",
              "      <td>1</td>\n",
              "      <td>9</td>\n",
              "      <td>0</td>\n",
              "      <td>3</td>\n",
              "      <td>4</td>\n",
              "      <td>4</td>\n",
              "      <td>4</td>\n",
              "    </tr>\n",
              "    <tr>\n",
              "      <th>1</th>\n",
              "      <td>toronto</td>\n",
              "      <td>1</td>\n",
              "      <td>1</td>\n",
              "      <td>5</td>\n",
              "      <td>19</td>\n",
              "      <td>0</td>\n",
              "      <td>5</td>\n",
              "      <td>15</td>\n",
              "      <td>4</td>\n",
              "      <td>7</td>\n",
              "    </tr>\n",
              "    <tr>\n",
              "      <th>2</th>\n",
              "      <td>toronto</td>\n",
              "      <td>50</td>\n",
              "      <td>8</td>\n",
              "      <td>50</td>\n",
              "      <td>49</td>\n",
              "      <td>27</td>\n",
              "      <td>47</td>\n",
              "      <td>50</td>\n",
              "      <td>38</td>\n",
              "      <td>35</td>\n",
              "    </tr>\n",
              "    <tr>\n",
              "      <th>3</th>\n",
              "      <td>toronto</td>\n",
              "      <td>4</td>\n",
              "      <td>3</td>\n",
              "      <td>12</td>\n",
              "      <td>28</td>\n",
              "      <td>2</td>\n",
              "      <td>6</td>\n",
              "      <td>39</td>\n",
              "      <td>1</td>\n",
              "      <td>0</td>\n",
              "    </tr>\n",
              "    <tr>\n",
              "      <th>4</th>\n",
              "      <td>toronto</td>\n",
              "      <td>45</td>\n",
              "      <td>48</td>\n",
              "      <td>50</td>\n",
              "      <td>50</td>\n",
              "      <td>41</td>\n",
              "      <td>45</td>\n",
              "      <td>50</td>\n",
              "      <td>28</td>\n",
              "      <td>49</td>\n",
              "    </tr>\n",
              "  </tbody>\n",
              "</table>\n",
              "</div>"
            ],
            "text/plain": [
              "      City  Arts  CollegeUniversity  Food  Professional  Nightlife  Outdoor  \\\n",
              "0  toronto     0                  1     1             9          0        3   \n",
              "1  toronto     1                  1     5            19          0        5   \n",
              "2  toronto    50                  8    50            49         27       47   \n",
              "3  toronto     4                  3    12            28          2        6   \n",
              "4  toronto    45                 48    50            50         41       45   \n",
              "\n",
              "   ShopServices  TravelTransport  Residence  \n",
              "0             4                4          4  \n",
              "1            15                4          7  \n",
              "2            50               38         35  \n",
              "3            39                1          0  \n",
              "4            50               28         49  "
            ]
          },
          "metadata": {
            "tags": []
          },
          "execution_count": 28
        }
      ]
    },
    {
      "metadata": {
        "id": "asXMEr7g9OT3",
        "colab_type": "code",
        "colab": {},
        "outputId": "200b5d3a-94e8-432b-fa8e-3862afec5e01"
      },
      "cell_type": "code",
      "source": [
        "# boxplot for Arts column\n",
        "df2.boxplot('Arts', by='City')"
      ],
      "execution_count": 0,
      "outputs": [
        {
          "output_type": "execute_result",
          "data": {
            "text/plain": [
              "<matplotlib.axes._subplots.AxesSubplot at 0x7f736415a278>"
            ]
          },
          "metadata": {
            "tags": []
          },
          "execution_count": 21
        },
        {
          "output_type": "display_data",
          "data": {
            "image/png": "[encoded data removed]",
            "text/plain": [
              "<Figure size 432x288 with 1 Axes>"
            ]
          },
          "metadata": {
            "tags": [],
            "needs_background": "light"
          }
        }
      ]
    },
    {
      "metadata": {
        "id": "9CdYqPeD9OT8",
        "colab_type": "code",
        "colab": {},
        "outputId": "71d9a6a7-76fc-41d3-b6bb-879108418210"
      },
      "cell_type": "code",
      "source": [
        "modl2 = ols('Arts ~ City', data=df2).fit()\n",
        "anova_table = sm.stats.anova_lm(modl2,typ=2)   \n",
        "print(anova_table)  "
      ],
      "execution_count": 0,
      "outputs": [
        {
          "output_type": "stream",
          "text": [
            "                 sum_sq     df         F    PR(>F)\n",
            "City         697.529412    1.0  2.394941  0.122507\n",
            "Residual  118247.960784  406.0       NaN       NaN\n"
          ],
          "name": "stdout"
        }
      ]
    },
    {
      "metadata": {
        "id": "eXG-8b1n9OUA",
        "colab_type": "code",
        "colab": {},
        "outputId": "d9161300-bc0a-4188-8124-6583b64d7378"
      },
      "cell_type": "code",
      "source": [
        "# boxplot for CollegeUniversity column\n",
        "df2.boxplot('CollegeUniversity', by='City')"
      ],
      "execution_count": 0,
      "outputs": [
        {
          "output_type": "execute_result",
          "data": {
            "text/plain": [
              "<matplotlib.axes._subplots.AxesSubplot at 0x7f736412a898>"
            ]
          },
          "metadata": {
            "tags": []
          },
          "execution_count": 22
        },
        {
          "output_type": "display_data",
          "data": {
            "image/png": "[encoded data removed]",
            "text/plain": [
              "<Figure size 432x288 with 1 Axes>"
            ]
          },
          "metadata": {
            "tags": [],
            "needs_background": "light"
          }
        }
      ]
    },
    {
      "metadata": {
        "id": "mYYDfSWp9OUF",
        "colab_type": "code",
        "colab": {},
        "outputId": "73e454eb-d189-4930-a684-cf5784807c55"
      },
      "cell_type": "code",
      "source": [
        "modl3 = ols('CollegeUniversity ~ City', data=df2).fit()\n",
        "anova_table = sm.stats.anova_lm(modl3,typ=2)   \n",
        "print(anova_table)  "
      ],
      "execution_count": 0,
      "outputs": [
        {
          "output_type": "stream",
          "text": [
            "                sum_sq     df         F    PR(>F)\n",
            "City       1120.294935    1.0  4.919292  0.027111\n",
            "Residual  92460.408497  406.0       NaN       NaN\n"
          ],
          "name": "stdout"
        }
      ]
    },
    {
      "metadata": {
        "id": "Z8MMSSFr9OUL",
        "colab_type": "code",
        "colab": {},
        "outputId": "945beb95-fd80-469a-9896-f5bd9e14531c"
      },
      "cell_type": "code",
      "source": [
        "modl4 = ols('Food ~ City', data=df2).fit()\n",
        "anova_table = sm.stats.anova_lm(modl4,typ=2)   \n",
        "print(anova_table)  "
      ],
      "execution_count": 0,
      "outputs": [
        {
          "output_type": "stream",
          "text": [
            "                 sum_sq     df          F        PR(>F)\n",
            "City       12631.228758    1.0  39.837837  7.235605e-10\n",
            "Residual  128728.849673  406.0        NaN           NaN\n"
          ],
          "name": "stdout"
        }
      ]
    },
    {
      "metadata": {
        "id": "oAp3S1kO9OUP",
        "colab_type": "code",
        "colab": {},
        "outputId": "4aca9069-3a64-4f67-aff4-b0b40ec6cdaf"
      },
      "cell_type": "code",
      "source": [
        "modl5 = ols('Professional ~ City', data=df2).fit()\n",
        "anova_table = sm.stats.anova_lm(modl5,typ=2)   \n",
        "print(anova_table) "
      ],
      "execution_count": 0,
      "outputs": [
        {
          "output_type": "stream",
          "text": [
            "                 sum_sq     df          F        PR(>F)\n",
            "City       12805.294935    1.0  51.317958  3.722318e-12\n",
            "Residual  101308.584967  406.0        NaN           NaN\n"
          ],
          "name": "stdout"
        }
      ]
    },
    {
      "metadata": {
        "id": "zDFf-ySt9OUU",
        "colab_type": "code",
        "colab": {},
        "outputId": "135e6301-e745-4bdb-bc79-513960db6d91"
      },
      "cell_type": "code",
      "source": [
        "modl6 = ols('Nightlife ~ City', data=df2).fit()\n",
        "anova_table = sm.stats.anova_lm(modl6,typ=2)   \n",
        "print(anova_table) "
      ],
      "execution_count": 0,
      "outputs": [
        {
          "output_type": "stream",
          "text": [
            "                 sum_sq     df         F   PR(>F)\n",
            "City        1748.667484    1.0  5.749903  0.01694\n",
            "Residual  123473.212418  406.0       NaN      NaN\n"
          ],
          "name": "stdout"
        }
      ]
    },
    {
      "metadata": {
        "id": "X-tw64cF9OUb",
        "colab_type": "code",
        "colab": {},
        "outputId": "0334f771-b1bf-4564-fa40-7755c39e135d"
      },
      "cell_type": "code",
      "source": [
        "modl7 = ols('Outdoor ~ City', data=df2).fit()\n",
        "anova_table = sm.stats.anova_lm(modl7,typ=2)   \n",
        "print(anova_table) "
      ],
      "execution_count": 0,
      "outputs": [
        {
          "output_type": "stream",
          "text": [
            "                 sum_sq     df          F    PR(>F)\n",
            "City        4314.382353    1.0  16.351912  0.000063\n",
            "Residual  107121.372549  406.0        NaN       NaN\n"
          ],
          "name": "stdout"
        }
      ]
    },
    {
      "metadata": {
        "id": "J14-l7H_9OUh",
        "colab_type": "code",
        "colab": {},
        "outputId": "2c29ef36-51e5-432b-f7dc-1c13f1337573"
      },
      "cell_type": "code",
      "source": [
        "modl8 = ols('ShopServices ~ City', data=df2).fit()\n",
        "anova_table = sm.stats.anova_lm(modl8,typ=2)   \n",
        "print(anova_table) "
      ],
      "execution_count": 0,
      "outputs": [
        {
          "output_type": "stream",
          "text": [
            "                 sum_sq     df          F        PR(>F)\n",
            "City       11716.804739    1.0  43.208015  1.514639e-10\n",
            "Residual  110095.839869  406.0        NaN           NaN\n"
          ],
          "name": "stdout"
        }
      ]
    },
    {
      "metadata": {
        "id": "_qiC0Jrr9OUl",
        "colab_type": "code",
        "colab": {},
        "outputId": "310daebc-82c7-4f00-8082-ba727ca769e4"
      },
      "cell_type": "code",
      "source": [
        "modl9 = ols('TravelTransport ~ City', data=df2).fit()\n",
        "anova_table = sm.stats.anova_lm(modl9,typ=2)   \n",
        "print(anova_table) "
      ],
      "execution_count": 0,
      "outputs": [
        {
          "output_type": "stream",
          "text": [
            "                sum_sq     df          F        PR(>F)\n",
            "City       6889.882353    1.0  31.885085  3.078469e-08\n",
            "Residual  87730.431373  406.0        NaN           NaN\n"
          ],
          "name": "stdout"
        }
      ]
    },
    {
      "metadata": {
        "id": "pqrj0AFI9OUo",
        "colab_type": "code",
        "colab": {},
        "outputId": "b3c7990f-7e8f-42f3-d976-a07d8e62b231"
      },
      "cell_type": "code",
      "source": [
        "modl10 = ols('Residence ~ City', data=df2).fit()\n",
        "anova_table = sm.stats.anova_lm(modl10,typ=2)   \n",
        "print(anova_table) "
      ],
      "execution_count": 0,
      "outputs": [
        {
          "output_type": "stream",
          "text": [
            "                 sum_sq     df        F    PR(>F)\n",
            "City        4161.804739    1.0  12.2431  0.000519\n",
            "Residual  138011.839869  406.0      NaN       NaN\n"
          ],
          "name": "stdout"
        }
      ]
    },
    {
      "metadata": {
        "id": "MWRxPYSp9OUu",
        "colab_type": "code",
        "colab": {}
      },
      "cell_type": "code",
      "source": [
        ""
      ],
      "execution_count": 0,
      "outputs": []
    },
    {
      "metadata": {
        "id": "xLO9Buyc9OUx",
        "colab_type": "text"
      },
      "cell_type": "markdown",
      "source": [
        "## Exploring data set"
      ]
    },
    {
      "metadata": {
        "id": "1r6Qhixl9OUy",
        "colab_type": "code",
        "colab": {},
        "outputId": "a6efc84c-2dbd-4472-c237-9b8e811c25df"
      },
      "cell_type": "code",
      "source": [
        "count_toronto = len(df2[df2['City']=='toronto'])\n",
        "count_newyork = len(df2[df2['City']=='newyork'])\n",
        "pct_of_toronto = count_toronto/(count_toronto+count_newyork)\n",
        "print(\"percentage for Toronto is\", pct_of_toronto*100)\n",
        "pct_of_newyork = count_newyork/(count_toronto+count_newyork)\n",
        "print(\"percentage for New York is\", pct_of_newyork*100)"
      ],
      "execution_count": 0,
      "outputs": [
        {
          "output_type": "stream",
          "text": [
            "percentage for Toronto is 25.0\n",
            "percentage for New York is 75.0\n"
          ],
          "name": "stdout"
        }
      ]
    },
    {
      "metadata": {
        "id": "_Snq-5Gh9OU4",
        "colab_type": "code",
        "colab": {},
        "outputId": "e0f9d604-898e-41be-829b-95077e622406"
      },
      "cell_type": "code",
      "source": [
        "df2.groupby('City').mean()"
      ],
      "execution_count": 0,
      "outputs": [
        {
          "output_type": "execute_result",
          "data": {
            "text/html": [
              "<div>\n",
              "<style scoped>\n",
              "    .dataframe tbody tr th:only-of-type {\n",
              "        vertical-align: middle;\n",
              "    }\n",
              "\n",
              "    .dataframe tbody tr th {\n",
              "        vertical-align: top;\n",
              "    }\n",
              "\n",
              "    .dataframe thead th {\n",
              "        text-align: right;\n",
              "    }\n",
              "</style>\n",
              "<table border=\"1\" class=\"dataframe\">\n",
              "  <thead>\n",
              "    <tr style=\"text-align: right;\">\n",
              "      <th></th>\n",
              "      <th>Arts</th>\n",
              "      <th>CollegeUniversity</th>\n",
              "      <th>Food</th>\n",
              "      <th>Professional</th>\n",
              "      <th>Nightlife</th>\n",
              "      <th>Outdoor</th>\n",
              "      <th>ShopServices</th>\n",
              "      <th>TravelTransport</th>\n",
              "      <th>Residence</th>\n",
              "    </tr>\n",
              "    <tr>\n",
              "      <th>City</th>\n",
              "      <th></th>\n",
              "      <th></th>\n",
              "      <th></th>\n",
              "      <th></th>\n",
              "      <th></th>\n",
              "      <th></th>\n",
              "      <th></th>\n",
              "      <th></th>\n",
              "      <th></th>\n",
              "    </tr>\n",
              "  </thead>\n",
              "  <tbody>\n",
              "    <tr>\n",
              "      <th>newyork</th>\n",
              "      <td>14.33333</td>\n",
              "      <td>10.51307</td>\n",
              "      <td>35.61438</td>\n",
              "      <td>38.08497</td>\n",
              "      <td>15.59477</td>\n",
              "      <td>23.23529</td>\n",
              "      <td>37.93464</td>\n",
              "      <td>20.17647</td>\n",
              "      <td>18.16993</td>\n",
              "    </tr>\n",
              "    <tr>\n",
              "      <th>toronto</th>\n",
              "      <td>11.31373</td>\n",
              "      <td>6.68627</td>\n",
              "      <td>22.76471</td>\n",
              "      <td>25.14706</td>\n",
              "      <td>10.81373</td>\n",
              "      <td>15.72549</td>\n",
              "      <td>25.55882</td>\n",
              "      <td>10.68627</td>\n",
              "      <td>10.79412</td>\n",
              "    </tr>\n",
              "  </tbody>\n",
              "</table>\n",
              "</div>"
            ],
            "text/plain": [
              "             Arts  CollegeUniversity      Food  Professional  Nightlife  \\\n",
              "City                                                                      \n",
              "newyork  14.33333           10.51307  35.61438      38.08497   15.59477   \n",
              "toronto  11.31373            6.68627  22.76471      25.14706   10.81373   \n",
              "\n",
              "          Outdoor  ShopServices  TravelTransport  Residence  \n",
              "City                                                         \n",
              "newyork  23.23529      37.93464         20.17647   18.16993  \n",
              "toronto  15.72549      25.55882         10.68627   10.79412  "
            ]
          },
          "metadata": {
            "tags": []
          },
          "execution_count": 36
        }
      ]
    },
    {
      "metadata": {
        "id": "IzstG1589OU7",
        "colab_type": "code",
        "colab": {},
        "outputId": "25c056fe-fc7b-425e-9927-22aaca3aa3f2"
      },
      "cell_type": "code",
      "source": [
        "# plotting histograms\n",
        "df2['Arts'].hist(by=df2['City'])\n",
        "# df2.Arts.hist()\n",
        "# plt.title('Histogram of Arts')\n",
        "plt.xlabel('Arts')\n",
        "plt.ylabel('Frequency')\n",
        "plt.savefig('hist_arts')"
      ],
      "execution_count": 0,
      "outputs": [
        {
          "output_type": "display_data",
          "data": {
            "image/png": "[encoded data removed]",
            "text/plain": [
              "<Figure size 432x288 with 2 Axes>"
            ]
          },
          "metadata": {
            "tags": []
          }
        }
      ]
    },
    {
      "metadata": {
        "id": "Mcda2BdZ9OU_",
        "colab_type": "code",
        "colab": {},
        "outputId": "5201bdc3-879a-445b-bdde-2ba4980557ac"
      },
      "cell_type": "code",
      "source": [
        "# plotting histograms\n",
        "df2['CollegeUniversity'].hist(by=df2['City'])\n",
        "# df2.Arts.hist()\n",
        "# plt.title('Histogram of Arts')\n",
        "plt.xlabel('College-University')\n",
        "plt.ylabel('Frequency')\n",
        "plt.savefig('hist_colu')"
      ],
      "execution_count": 0,
      "outputs": [
        {
          "output_type": "display_data",
          "data": {
            "image/png": "[encoded data removed]",
            "text/plain": [
              "<Figure size 432x288 with 2 Axes>"
            ]
          },
          "metadata": {
            "tags": []
          }
        }
      ]
    },
    {
      "metadata": {
        "id": "FOO8JRZ49OVB",
        "colab_type": "code",
        "colab": {},
        "outputId": "9c7ebc55-3b61-4712-ee4f-d30e1f28039b"
      },
      "cell_type": "code",
      "source": [
        "# plotting histograms\n",
        "df2['Food'].hist(by=df2['City'])\n",
        "# df2.Arts.hist()\n",
        "# plt.title('Histogram of Arts')\n",
        "plt.xlabel('Food')\n",
        "plt.ylabel('Frequency')\n",
        "plt.savefig('hist_food')"
      ],
      "execution_count": 0,
      "outputs": [
        {
          "output_type": "display_data",
          "data": {
            "image/png": "[encoded data removed]",
            "text/plain": [
              "<Figure size 432x288 with 2 Axes>"
            ]
          },
          "metadata": {
            "tags": []
          }
        }
      ]
    },
    {
      "metadata": {
        "id": "Z4E8Z_NN9OVH",
        "colab_type": "code",
        "colab": {},
        "outputId": "a3d7c943-d12f-402f-8c6f-b11b0c5d38c4"
      },
      "cell_type": "code",
      "source": [
        "# plotting histograms\n",
        "df2['Professional'].hist(by=df2['City'])\n",
        "# df2.Arts.hist()\n",
        "# plt.title('Histogram of Arts')\n",
        "plt.xlabel('Professional')\n",
        "plt.ylabel('Frequency')\n",
        "plt.savefig('hist_prother')"
      ],
      "execution_count": 0,
      "outputs": [
        {
          "output_type": "display_data",
          "data": {
            "image/png": "[encoded data removed]",
            "text/plain": [
              "<Figure size 432x288 with 2 Axes>"
            ]
          },
          "metadata": {
            "tags": []
          }
        }
      ]
    },
    {
      "metadata": {
        "id": "R60nLDv29OVN",
        "colab_type": "code",
        "colab": {},
        "outputId": "c6c4ecdf-dbf4-430e-cd07-8a0d12a593ac"
      },
      "cell_type": "code",
      "source": [
        "# plotting histograms\n",
        "df2['Nightlife'].hist(by=df2['City'])\n",
        "# df2.Arts.hist()\n",
        "# plt.title('Histogram of Arts')\n",
        "plt.xlabel('Nightlife')\n",
        "plt.ylabel('Frequency')\n",
        "plt.savefig('hist_nightlife')"
      ],
      "execution_count": 0,
      "outputs": [
        {
          "output_type": "display_data",
          "data": {
            "image/png": "[encoded data removed]",
            "text/plain": [
              "<Figure size 432x288 with 2 Axes>"
            ]
          },
          "metadata": {
            "tags": []
          }
        }
      ]
    },
    {
      "metadata": {
        "id": "p0WWFAiJ9OVQ",
        "colab_type": "code",
        "colab": {},
        "outputId": "03504435-f96e-4561-9b23-2ea8931da143"
      },
      "cell_type": "code",
      "source": [
        "# plotting histograms\n",
        "df2['Outdoor'].hist(by=df2['City'])\n",
        "# df2.Arts.hist()\n",
        "# plt.title('Histogram of Arts')\n",
        "plt.xlabel('Outdoor')\n",
        "plt.ylabel('Frequency')\n",
        "plt.savefig('hist_outdoors')"
      ],
      "execution_count": 0,
      "outputs": [
        {
          "output_type": "display_data",
          "data": {
            "image/png": "[encoded data removed]",
            "text/plain": [
              "<Figure size 432x288 with 2 Axes>"
            ]
          },
          "metadata": {
            "tags": []
          }
        }
      ]
    },
    {
      "metadata": {
        "id": "a_UvM3m39OVU",
        "colab_type": "code",
        "colab": {},
        "outputId": "1c371545-346c-414c-bfe9-7514ff4f69f1"
      },
      "cell_type": "code",
      "source": [
        "# plotting histograms\n",
        "df2['ShopServices'].hist(by=df2['City'])\n",
        "# df2.Arts.hist()\n",
        "# plt.title('Histogram of Arts')\n",
        "plt.xlabel('ShopServices')\n",
        "plt.ylabel('Frequency')\n",
        "plt.savefig('hist_shopserv')"
      ],
      "execution_count": 0,
      "outputs": [
        {
          "output_type": "display_data",
          "data": {
            "image/png": "[encoded data removed]",
            "text/plain": [
              "<Figure size 432x288 with 2 Axes>"
            ]
          },
          "metadata": {
            "tags": []
          }
        }
      ]
    },
    {
      "metadata": {
        "id": "-1MVV53d9OVY",
        "colab_type": "code",
        "colab": {},
        "outputId": "e31469cd-d7a4-46b3-d2ce-375f244c7060"
      },
      "cell_type": "code",
      "source": [
        "# plotting histograms\n",
        "df2['TravelTransport'].hist(by=df2['City'])\n",
        "# df2.Arts.hist()\n",
        "# plt.title('Histogram of Arts')\n",
        "plt.xlabel('TravelTransport')\n",
        "plt.ylabel('Frequency')\n",
        "plt.savefig('hist_travel')"
      ],
      "execution_count": 0,
      "outputs": [
        {
          "output_type": "display_data",
          "data": {
            "image/png": "[encoded data removed]",
            "text/plain": [
              "<Figure size 432x288 with 2 Axes>"
            ]
          },
          "metadata": {
            "tags": []
          }
        }
      ]
    },
    {
      "metadata": {
        "id": "Qy7xba8B9OVb",
        "colab_type": "code",
        "colab": {},
        "outputId": "31287651-0d02-4397-9f0f-1a46f6696592"
      },
      "cell_type": "code",
      "source": [
        "# plotting histograms\n",
        "df2['Residence'].hist(by=df2['City'])\n",
        "# df2.Arts.hist()\n",
        "# plt.title('Histogram of Arts')\n",
        "plt.xlabel('Residence')\n",
        "plt.ylabel('Frequency')\n",
        "plt.savefig('hist_residence')"
      ],
      "execution_count": 0,
      "outputs": [
        {
          "output_type": "display_data",
          "data": {
            "image/png": "[encoded data removed]",
            "text/plain": [
              "<Figure size 432x288 with 2 Axes>"
            ]
          },
          "metadata": {
            "tags": []
          }
        }
      ]
    }
  ]
}